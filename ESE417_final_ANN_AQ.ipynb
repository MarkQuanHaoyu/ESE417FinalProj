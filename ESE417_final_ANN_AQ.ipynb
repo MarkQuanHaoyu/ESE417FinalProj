{
 "cells": [
  {
   "cell_type": "code",
   "execution_count": 65,
   "metadata": {},
   "outputs": [],
   "source": [
    "import numpy as np\n",
    "import pandas as pd\n",
    "import matplotlib.pyplot as plt\n",
    "\n",
    "# load red wine data\n",
    "data = np.loadtxt('winequality-red.csv', delimiter=';', skiprows=1)\n",
    "X = data[:, :-1]\n",
    "y = data[:, -1]\n",
    "\n",
    "\n",
    "# split data into training and testing sets\n",
    "from sklearn.model_selection import train_test_split\n",
    "tr_X, te_X, tr_Y, te_Y = train_test_split(X, y, test_size=0.2, random_state=5)\n"
   ]
  },
  {
   "cell_type": "code",
   "execution_count": 50,
   "metadata": {},
   "outputs": [
    {
     "name": "stdout",
     "output_type": "stream",
     "text": [
      "Accuracy of ANN classifier on training set: 0.62080\n",
      "Accuracy of ANN classifier on test set: 0.62187\n",
      "Accuracy of ANN classifier on training set: 0.60985\n",
      "Accuracy of ANN classifier on test set: 0.58437\n"
     ]
    }
   ],
   "source": [
    "#ANN model 20 hidden layers and 11 neurons in each layer   \n",
    "# calssify wine quality with activation function relu\n",
    "from sklearn.neural_network import MLPClassifier\n",
    "clf = MLPClassifier(hidden_layer_sizes=(20,20,20,20,20,20,20,20,20,20,20), activation='relu', solver='adam', max_iter=1000, random_state=5)\n",
    "#add weight to the neurons\n",
    "\n",
    "clf.fit(tr_X, tr_Y)\n",
    "pred_Y = clf.predict(te_X)\n",
    "print('Accuracy of ANN classifier on training set: {:.5f}'\n",
    "        .format(clf.score(tr_X, tr_Y)))\n",
    "print('Accuracy of ANN classifier on test set: {:.5f}'\n",
    "        .format(clf.score(te_X, te_Y)))\n",
    "\n",
    "\n",
    "#inprove accuracy change hidden layers to 15\n",
    "#add weight to the features\n",
    "\n",
    "\n",
    "\n",
    "\n",
    "#clf = MLPClassifier(hidden_layer_sizes=(15,15,15,15,15,15,15,15,15,15,15), activation='relu', solver='adam', max_iter=1000, random_state=5)\n",
    "\n",
    "\n",
    "\n",
    "\n"
   ]
  },
  {
   "cell_type": "code",
   "execution_count": 67,
   "metadata": {},
   "outputs": [
    {
     "name": "stdout",
     "output_type": "stream",
     "text": [
      "[0.5125     0.6125     0.5625     0.54375    0.51875    0.675\n",
      " 0.60625    0.58125    0.59375    0.62264151]\n",
      "Accuracy: 0.58289 (+/- 0.09513)\n",
      "Accuracy of random forest classifier on training set: 0.95856\n",
      "Accuracy of random forest classifier on test set: 0.74062\n"
     ]
    },
    {
     "data": {
      "image/png": "[encoded data removed]",
      "text/plain": [
       "<Figure size 720x720 with 1 Axes>"
      ]
     },
     "metadata": {
      "needs_background": "light"
     },
     "output_type": "display_data"
    }
   ],
   "source": [
    "#random forest method classify wine quality\n",
    "import tqdm\n",
    "from sklearn.ensemble import RandomForestClassifier\n",
    "#use tqdm to show the progress of the training\n",
    "clf = RandomForestClassifier(n_estimators=1000, max_depth=10, random_state=0)\n",
    "clf.fit(tr_X, tr_Y)\n",
    "pred_Y = clf.predict(te_X)\n",
    "\n",
    "#k fold cross validation\n",
    "\n",
    "from sklearn.model_selection import cross_val_score\n",
    "scores = cross_val_score(clf, X, y, cv=10)\n",
    "print(scores)\n",
    "print(\"Accuracy: %0.5f (+/- %0.5f)\" % (scores.mean(), scores.std() * 2))\n",
    "\n",
    "#print the accuracy of the random forest method\n",
    "print('Accuracy of random forest classifier on training set: {:.5f}'\n",
    "        .format(clf.score(tr_X, tr_Y)))\n",
    "print('Accuracy of random forest classifier on test set: {:.5f}'\n",
    "        .format(clf.score(te_X, te_Y)))\n",
    "\n",
    "\n",
    "\n",
    "#plot the prediction of random forest method and the real value\n",
    "plt.figure(figsize=(10, 10))\n",
    "plt.plot(te_Y, pred_Y, 'o', color='black')\n",
    "plt.xlabel('Real value')\n",
    "plt.ylabel('Prediction')\n",
    "plt.show()\n",
    "\n"
   ]
  },
  {
   "cell_type": "code",
   "execution_count": 56,
   "metadata": {},
   "outputs": [
    {
     "data": {
      "text/plain": [
       "Text(33.0, 0.5, 'True')"
      ]
     },
     "execution_count": 56,
     "metadata": {},
     "output_type": "execute_result"
    },
    {
     "data": {
      "image/png": "[encoded data removed]",
      "text/plain": [
       "<Figure size 432x288 with 2 Axes>"
      ]
     },
     "metadata": {
      "needs_background": "light"
     },
     "output_type": "display_data"
    }
   ],
   "source": [
    "#bar plot for wine quality classification for random forest method for the training set and test set above      \n",
    "from sklearn.metrics import confusion_matrix\n",
    "import seaborn as sns\n",
    "cm = confusion_matrix(te_Y, pred_Y)\n",
    "sns.heatmap(cm, annot=True, fmt='d')\n",
    "plt.xlabel('Predicted')\n",
    "plt.ylabel('True')"
   ]
  }
 ],
 "metadata": {
  "language_info": {
   "name": "python"
  },
  "orig_nbformat": 4
 },
 "nbformat": 4,
 "nbformat_minor": 2
}
