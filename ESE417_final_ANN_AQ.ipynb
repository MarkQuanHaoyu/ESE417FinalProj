{
 "cells": [
  {
   "cell_type": "code",
   "execution_count": 27,
   "metadata": {},
   "outputs": [],
   "source": [
    "import numpy as np\n",
    "import pandas as pd\n",
    "import matplotlib.pyplot as plt\n",
    "\n",
    "# load red wine data\n",
    "data = np.loadtxt('winequality-red.csv', delimiter=';', skiprows=1)\n",
    "X = data[:, :-1]\n",
    "y = data[:, -1]\n",
    "\n",
    "\n",
    "# split data into training and testing sets\n",
    "from sklearn.model_selection import train_test_split\n",
    "tr_X, te_X, tr_Y, te_Y = train_test_split(X, y, test_size=0.2, random_state=5)\n"
   ]
  },
  {
   "cell_type": "code",
   "execution_count": 28,
   "metadata": {},
   "outputs": [
    {
     "name": "stdout",
     "output_type": "stream",
     "text": [
      "Accuracy of ANN classifier on training set: 0.62080\n",
      "Accuracy of ANN classifier on test set: 0.62187\n",
      "              precision    recall  f1-score   support\n",
      "\n",
      "         3.0       0.00      0.00      0.00         1\n",
      "         4.0       0.00      0.00      0.00         6\n",
      "         5.0       0.70      0.81      0.75       152\n",
      "         6.0       0.51      0.53      0.52       115\n",
      "         7.0       0.60      0.38      0.46        40\n",
      "         8.0       0.00      0.00      0.00         6\n",
      "\n",
      "    accuracy                           0.62       320\n",
      "   macro avg       0.30      0.29      0.29       320\n",
      "weighted avg       0.59      0.62      0.60       320\n",
      "\n"
     ]
    },
    {
     "name": "stderr",
     "output_type": "stream",
     "text": [
      "/Users/anranqiao/anaconda3/lib/python3.9/site-packages/sklearn/metrics/_classification.py:1344: UndefinedMetricWarning: Precision and F-score are ill-defined and being set to 0.0 in labels with no predicted samples. Use `zero_division` parameter to control this behavior.\n",
      "  _warn_prf(average, modifier, msg_start, len(result))\n",
      "/Users/anranqiao/anaconda3/lib/python3.9/site-packages/sklearn/metrics/_classification.py:1344: UndefinedMetricWarning: Precision and F-score are ill-defined and being set to 0.0 in labels with no predicted samples. Use `zero_division` parameter to control this behavior.\n",
      "  _warn_prf(average, modifier, msg_start, len(result))\n",
      "/Users/anranqiao/anaconda3/lib/python3.9/site-packages/sklearn/metrics/_classification.py:1344: UndefinedMetricWarning: Precision and F-score are ill-defined and being set to 0.0 in labels with no predicted samples. Use `zero_division` parameter to control this behavior.\n",
      "  _warn_prf(average, modifier, msg_start, len(result))\n"
     ]
    }
   ],
   "source": [
    "#ANN model 20 hidden layers and 11 neurons in each layer   \n",
    "# calssify wine quality with activation function relu\n",
    "from sklearn.neural_network import MLPClassifier\n",
    "clf = MLPClassifier(hidden_layer_sizes=(20,20,20,20,20,20,20,20,20,20,20), activation='relu', solver='adam', max_iter=1000, random_state=5)\n",
    "#add weight to the neurons\n",
    "\n",
    "clf.fit(tr_X, tr_Y)\n",
    "pred_Y = clf.predict(te_X)\n",
    "print('Accuracy of ANN classifier on training set: {:.5f}'\n",
    "        .format(clf.score(tr_X, tr_Y)))\n",
    "print('Accuracy of ANN classifier on test set: {:.5f}'\n",
    "        .format(clf.score(te_X, te_Y)))\n",
    "\n",
    "\n",
    "#inprove accuracy change hidden layers to 15\n",
    "#add weight to the features\n",
    "\n",
    "print(classification_report(te_Y, pred_Y))\n",
    "\n",
    "\n",
    "\n",
    "#clf = MLPClassifier(hidden_layer_sizes=(15,15,15,15,15,15,15,15,15,15,15), activation='relu', solver='adam', max_iter=1000, random_state=5)\n",
    "\n",
    "\n",
    "\n",
    "\n"
   ]
  },
  {
   "attachments": {},
   "cell_type": "markdown",
   "metadata": {},
   "source": [
    "Random Forest Method"
   ]
  },
  {
   "cell_type": "code",
   "execution_count": 78,
   "metadata": {},
   "outputs": [
    {
     "name": "stdout",
     "output_type": "stream",
     "text": [
      "              precision    recall  f1-score   support\n",
      "\n",
      "         3.0       0.00      0.00      0.00         1\n",
      "         4.0       0.00      0.00      0.00         6\n",
      "         5.0       0.86      0.83      0.84       152\n",
      "         6.0       0.63      0.83      0.72       115\n",
      "         7.0       0.80      0.40      0.53        40\n",
      "         8.0       0.00      0.00      0.00         6\n",
      "\n",
      "    accuracy                           0.74       320\n",
      "   macro avg       0.38      0.34      0.35       320\n",
      "weighted avg       0.73      0.74      0.72       320\n",
      "\n",
      "Mean squared error: 0.37\n"
     ]
    },
    {
     "name": "stderr",
     "output_type": "stream",
     "text": [
      "/Users/anranqiao/anaconda3/lib/python3.9/site-packages/sklearn/metrics/_classification.py:1344: UndefinedMetricWarning: Precision and F-score are ill-defined and being set to 0.0 in labels with no predicted samples. Use `zero_division` parameter to control this behavior.\n",
      "  _warn_prf(average, modifier, msg_start, len(result))\n",
      "/Users/anranqiao/anaconda3/lib/python3.9/site-packages/sklearn/metrics/_classification.py:1344: UndefinedMetricWarning: Precision and F-score are ill-defined and being set to 0.0 in labels with no predicted samples. Use `zero_division` parameter to control this behavior.\n",
      "  _warn_prf(average, modifier, msg_start, len(result))\n",
      "/Users/anranqiao/anaconda3/lib/python3.9/site-packages/sklearn/metrics/_classification.py:1344: UndefinedMetricWarning: Precision and F-score are ill-defined and being set to 0.0 in labels with no predicted samples. Use `zero_division` parameter to control this behavior.\n",
      "  _warn_prf(average, modifier, msg_start, len(result))\n"
     ]
    }
   ],
   "source": [
    "#random forest method classify wine quality\n",
    "import tqdm\n",
    "from sklearn.ensemble import RandomForestClassifier\n",
    "from sklearn.metrics import classification_report\n",
    "\n",
    "#use tqdm to show the progress of the training\n",
    "clf = RandomForestClassifier(n_estimators=1000, max_depth=10, random_state=3)\n",
    "clf.fit(tr_X, tr_Y)\n",
    "pred_Y = clf.predict(te_X)\n",
    "\n",
    "#show the classification report\n",
    "print(classification_report(te_Y, pred_Y))\n",
    "\n",
    "#show the MSE\n",
    "from sklearn.metrics import mean_squared_error\n",
    "print(\"Mean squared error: %.2f\" % mean_squared_error(te_Y, pred_Y))\n"
   ]
  },
  {
   "cell_type": "code",
   "execution_count": 72,
   "metadata": {},
   "outputs": [
    {
     "name": "stdout",
     "output_type": "stream",
     "text": [
      "              precision    recall  f1-score   support\n",
      "\n",
      "         3.0       0.00      0.00      0.00         1\n",
      "         4.0       0.00      0.00      0.00         6\n",
      "         5.0       0.86      0.84      0.85       152\n",
      "         6.0       0.63      0.84      0.72       115\n",
      "         7.0       0.82      0.35      0.49        40\n",
      "         8.0       1.00      0.17      0.29         6\n",
      "\n",
      "    accuracy                           0.75       320\n",
      "   macro avg       0.55      0.37      0.39       320\n",
      "weighted avg       0.76      0.75      0.73       320\n",
      "\n",
      "Mean squared error: 0.36\n"
     ]
    },
    {
     "name": "stderr",
     "output_type": "stream",
     "text": [
      "/Users/anranqiao/anaconda3/lib/python3.9/site-packages/sklearn/metrics/_classification.py:1344: UndefinedMetricWarning: Precision and F-score are ill-defined and being set to 0.0 in labels with no predicted samples. Use `zero_division` parameter to control this behavior.\n",
      "  _warn_prf(average, modifier, msg_start, len(result))\n",
      "/Users/anranqiao/anaconda3/lib/python3.9/site-packages/sklearn/metrics/_classification.py:1344: UndefinedMetricWarning: Precision and F-score are ill-defined and being set to 0.0 in labels with no predicted samples. Use `zero_division` parameter to control this behavior.\n",
      "  _warn_prf(average, modifier, msg_start, len(result))\n",
      "/Users/anranqiao/anaconda3/lib/python3.9/site-packages/sklearn/metrics/_classification.py:1344: UndefinedMetricWarning: Precision and F-score are ill-defined and being set to 0.0 in labels with no predicted samples. Use `zero_division` parameter to control this behavior.\n",
      "  _warn_prf(average, modifier, msg_start, len(result))\n"
     ]
    }
   ],
   "source": [
    "# weight the features\n",
    "#generate class weight\n",
    "from sklearn.utils import class_weight\n",
    "\n",
    "class_weights = { 1:10,2:10,3:69, 4:1, 5:1, 6:1, 7:1, 8:34, 9:10, 10:10, 11:80}\n",
    "clf = RandomForestClassifier(n_estimators=1000, max_depth=10, random_state=3, class_weight=class_weights)\n",
    "\n",
    "clf.fit(tr_X, tr_Y)\n",
    "pred_Y = clf.predict(te_X)\n",
    "\n",
    "#show the classification report\n",
    "print(classification_report(te_Y, pred_Y))\n",
    "\n",
    "#print mean square error\n",
    "\n",
    "print(\"Mean squared error: %.2f\" % mean_squared_error(te_Y, pred_Y))\n",
    "\n",
    "\n",
    "\n"
   ]
  },
  {
   "cell_type": "code",
   "execution_count": 77,
   "metadata": {},
   "outputs": [
    {
     "name": "stdout",
     "output_type": "stream",
     "text": [
      "Best parameters set found on development set:\n",
      "{'class_weight': {1: 10, 2: 10, 3: 69, 4: 1, 5: 1, 6: 1, 7: 1, 8: 34, 9: 10, 10: 10, 11: 80}, 'max_depth': 15, 'n_estimators': 500}\n",
      "Grid scores on development set:\n",
      "              precision    recall  f1-score   support\n",
      "\n",
      "         3.0       0.00      0.00      0.00         1\n",
      "         4.0       0.00      0.00      0.00         6\n",
      "         5.0       0.86      0.83      0.85       152\n",
      "         6.0       0.64      0.83      0.72       115\n",
      "         7.0       0.74      0.42      0.54        40\n",
      "         8.0       1.00      0.17      0.29         6\n",
      "\n",
      "    accuracy                           0.75       320\n",
      "   macro avg       0.54      0.37      0.40       320\n",
      "weighted avg       0.75      0.75      0.73       320\n",
      "\n",
      "Mean squared error: 0.35\n"
     ]
    },
    {
     "name": "stderr",
     "output_type": "stream",
     "text": [
      "/Users/anranqiao/anaconda3/lib/python3.9/site-packages/sklearn/metrics/_classification.py:1344: UndefinedMetricWarning: Precision and F-score are ill-defined and being set to 0.0 in labels with no predicted samples. Use `zero_division` parameter to control this behavior.\n",
      "  _warn_prf(average, modifier, msg_start, len(result))\n",
      "/Users/anranqiao/anaconda3/lib/python3.9/site-packages/sklearn/metrics/_classification.py:1344: UndefinedMetricWarning: Precision and F-score are ill-defined and being set to 0.0 in labels with no predicted samples. Use `zero_division` parameter to control this behavior.\n",
      "  _warn_prf(average, modifier, msg_start, len(result))\n",
      "/Users/anranqiao/anaconda3/lib/python3.9/site-packages/sklearn/metrics/_classification.py:1344: UndefinedMetricWarning: Precision and F-score are ill-defined and being set to 0.0 in labels with no predicted samples. Use `zero_division` parameter to control this behavior.\n",
      "  _warn_prf(average, modifier, msg_start, len(result))\n"
     ]
    }
   ],
   "source": [
    "#grid search to find the best parameters\n",
    "from sklearn.model_selection import GridSearchCV\n",
    "from sklearn.metrics import classification_report\n",
    "from sklearn.ensemble import RandomForestClassifier\n",
    "\n",
    "#use grid search to find the best parameters\n",
    "\n",
    "param_grid = {'n_estimators': [500, 600, 700, 800, 900, 1000], 'max_depth': [5, 10, 15], 'class_weight': [class_weights]}\n",
    "clf = GridSearchCV(RandomForestClassifier(), param_grid, cv=5, scoring='accuracy')\n",
    "clf.fit(tr_X, tr_Y)\n",
    "print(\"Best parameters set found on development set:\")\n",
    "print(clf.best_params_)\n",
    "print(\"Grid scores on development set:\")\n",
    "means = clf.cv_results_['mean_test_score']\n",
    "stds = clf.cv_results_['std_test_score']\n",
    "#show the classification report\n",
    "\n",
    "pred_Y = clf.predict(te_X)\n",
    "print(classification_report(te_Y, pred_Y))\n",
    "print(\"Mean squared error: %.2f\" % mean_squared_error(te_Y, pred_Y))\n",
    "\n"
   ]
  },
  {
   "cell_type": "code",
   "execution_count": 75,
   "metadata": {},
   "outputs": [
    {
     "name": "stderr",
     "output_type": "stream",
     "text": [
      "/Users/anranqiao/anaconda3/lib/python3.9/site-packages/sklearn/model_selection/_split.py:700: UserWarning: The least populated class in y has only 9 members, which is less than n_splits=10.\n",
      "  warnings.warn(\n"
     ]
    },
    {
     "name": "stdout",
     "output_type": "stream",
     "text": [
      "Cross validation score: 0.68\n"
     ]
    },
    {
     "name": "stderr",
     "output_type": "stream",
     "text": [
      "/var/folders/jb/4h3n8x816qv1wgp3qpxgrv_40000gn/T/ipykernel_4504/3455214418.py:16: MatplotlibDeprecationWarning: savefig() got unexpected keyword argument \"transparancy\" which is no longer supported as of 3.3 and will become an error in 3.6\n",
      "  plt.savefig(\"fig6.png\", transparancy=True)\n"
     ]
    },
    {
     "data": {
      "image/png": "[encoded data removed]",
      "text/plain": [
       "<Figure size 432x288 with 1 Axes>"
      ]
     },
     "metadata": {
      "needs_background": "light"
     },
     "output_type": "display_data"
    }
   ],
   "source": [
    "\n",
    "#show the feature importance\n",
    "import matplotlib.pyplot as plt\n",
    "from sklearn.model_selection import cross_val_score\n",
    "\n",
    "model_s = cross_val_score(clf, tr_X, tr_Y, cv=10)\n",
    "#print the cross validation score\n",
    "print(\"Cross validation score: %.2f\" % model_s.mean())\n",
    "\n",
    "#show the feature importance\n",
    "plt.bar(range(1, 11), model_s, label='Random forest')\n",
    "plt.xticks(range(1, 11))\n",
    "plt.ylim(0.6, 0.75)\n",
    "plt.legend()\n",
    "plt.xlabel(\"# of fold\")\n",
    "plt.ylabel(\"acc\")\n",
    "plt.savefig(\"fig6.png\", transparancy=True)"
   ]
  },
  {
   "cell_type": "code",
   "execution_count": 79,
   "metadata": {},
   "outputs": [
    {
     "name": "stdout",
     "output_type": "stream",
     "text": [
      "Shap of y_pred:  (320,)\n"
     ]
    },
    {
     "data": {
      "image/png": "[encoded data removed]",
      "text/plain": [
       "<Figure size 864x864 with 1 Axes>"
      ]
     },
     "metadata": {
      "needs_background": "light"
     },
     "output_type": "display_data"
    }
   ],
   "source": [
    "correct = 0\n",
    "one_bit_error = 0\n",
    "two_bit_error = 0\n",
    "threemore_bit_error = 0\n",
    "print('Shap of y_pred: ', te_Y.shape)\n",
    "for i in range(len(pred_Y)):\n",
    "    if pred_Y[i] == te_Y[i]:\n",
    "        correct += 1\n",
    "    elif abs(pred_Y[i] - te_Y[i]) == 1:\n",
    "        one_bit_error += 1\n",
    "    elif abs(pred_Y[i] - te_Y[i]) == 2:\n",
    "        two_bit_error += 1\n",
    "    else:\n",
    "        threemore_bit_error += 1\n",
    "plt.figure(figsize=(12, 12))\n",
    "plt.bar(['correct', '1 bit error', '2 bit error', '3 bit error'], [correct, one_bit_error, two_bit_error, threemore_bit_error])\n",
    "plt.title('Prediction of test data')\n",
    "plt.xlabel('Prediction')\n",
    "plt.ylabel('Number of data')\n",
    "plt.show()"
   ]
  }
 ],
 "metadata": {
  "kernelspec": {
   "display_name": "base",
   "language": "python",
   "name": "python3"
  },
  "language_info": {
   "codemirror_mode": {
    "name": "ipython",
    "version": 3
   },
   "file_extension": ".py",
   "mimetype": "text/x-python",
   "name": "python",
   "nbconvert_exporter": "python",
   "pygments_lexer": "ipython3",
   "version": "3.9.12"
  },
  "orig_nbformat": 4
 },
 "nbformat": 4,
 "nbformat_minor": 2
}
