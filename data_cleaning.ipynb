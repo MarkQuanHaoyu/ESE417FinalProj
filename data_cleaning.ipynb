{
 "cells": [
  {
   "cell_type": "code",
   "execution_count": 79,
   "outputs": [],
   "source": [
    "import numpy as np\n",
    "import pandas as pd\n",
    "import matplotlib.pyplot as plt\n",
    "from sklearn.model_selection import train_test_split\n",
    "\n",
    "import seaborn as sns"
   ],
   "metadata": {
    "collapsed": false
   }
  },
  {
   "cell_type": "code",
   "execution_count": 80,
   "outputs": [],
   "source": [
    "# read in the data\n",
    "raw_data = pd.read_csv('winequality-red.csv', sep=';')"
   ],
   "metadata": {
    "collapsed": false
   }
  },
  {
   "cell_type": "code",
   "execution_count": 81,
   "outputs": [
    {
     "name": "stdout",
     "output_type": "stream",
     "text": [
      "<class 'pandas.core.frame.DataFrame'>\n",
      "Int64Index: 1359 entries, 0 to 1598\n",
      "Data columns (total 12 columns):\n",
      " #   Column                Non-Null Count  Dtype  \n",
      "---  ------                --------------  -----  \n",
      " 0   fixed acidity         1359 non-null   float64\n",
      " 1   volatile acidity      1359 non-null   float64\n",
      " 2   citric acid           1359 non-null   float64\n",
      " 3   residual sugar        1359 non-null   float64\n",
      " 4   chlorides             1359 non-null   float64\n",
      " 5   free sulfur dioxide   1359 non-null   float64\n",
      " 6   total sulfur dioxide  1359 non-null   float64\n",
      " 7   density               1359 non-null   float64\n",
      " 8   pH                    1359 non-null   float64\n",
      " 9   sulphates             1359 non-null   float64\n",
      " 10  alcohol               1359 non-null   float64\n",
      " 11  quality               1359 non-null   int64  \n",
      "dtypes: float64(11), int64(1)\n",
      "memory usage: 138.0 KB\n"
     ]
    },
    {
     "data": {
      "text/plain": "       fixed acidity  volatile acidity  citric acid  residual sugar  \\\ncount    1359.000000       1359.000000  1359.000000     1359.000000   \nmean        8.310596          0.529478     0.272333        2.523400   \nstd         1.736990          0.183031     0.195537        1.352314   \nmin         4.600000          0.120000     0.000000        0.900000   \n25%         7.100000          0.390000     0.090000        1.900000   \n50%         7.900000          0.520000     0.260000        2.200000   \n75%         9.200000          0.640000     0.430000        2.600000   \nmax        15.900000          1.580000     1.000000       15.500000   \n\n         chlorides  free sulfur dioxide  total sulfur dioxide      density  \\\ncount  1359.000000          1359.000000           1359.000000  1359.000000   \nmean      0.088124            15.893304             46.825975     0.996709   \nstd       0.049377            10.447270             33.408946     0.001869   \nmin       0.012000             1.000000              6.000000     0.990070   \n25%       0.070000             7.000000             22.000000     0.995600   \n50%       0.079000            14.000000             38.000000     0.996700   \n75%       0.091000            21.000000             63.000000     0.997820   \nmax       0.611000            72.000000            289.000000     1.003690   \n\n                pH    sulphates      alcohol      quality  \ncount  1359.000000  1359.000000  1359.000000  1359.000000  \nmean      3.309787     0.658705    10.432315     5.623252  \nstd       0.155036     0.170667     1.082065     0.823578  \nmin       2.740000     0.330000     8.400000     3.000000  \n25%       3.210000     0.550000     9.500000     5.000000  \n50%       3.310000     0.620000    10.200000     6.000000  \n75%       3.400000     0.730000    11.100000     6.000000  \nmax       4.010000     2.000000    14.900000     8.000000  ",
      "text/html": "<div>\n<style scoped>\n    .dataframe tbody tr th:only-of-type {\n        vertical-align: middle;\n    }\n\n    .dataframe tbody tr th {\n        vertical-align: top;\n    }\n\n    .dataframe thead th {\n        text-align: right;\n    }\n</style>\n<table border=\"1\" class=\"dataframe\">\n  <thead>\n    <tr style=\"text-align: right;\">\n      <th></th>\n      <th>fixed acidity</th>\n      <th>volatile acidity</th>\n      <th>citric acid</th>\n      <th>residual sugar</th>\n      <th>chlorides</th>\n      <th>free sulfur dioxide</th>\n      <th>total sulfur dioxide</th>\n      <th>density</th>\n      <th>pH</th>\n      <th>sulphates</th>\n      <th>alcohol</th>\n      <th>quality</th>\n    </tr>\n  </thead>\n  <tbody>\n    <tr>\n      <th>count</th>\n      <td>1359.000000</td>\n      <td>1359.000000</td>\n      <td>1359.000000</td>\n      <td>1359.000000</td>\n      <td>1359.000000</td>\n      <td>1359.000000</td>\n      <td>1359.000000</td>\n      <td>1359.000000</td>\n      <td>1359.000000</td>\n      <td>1359.000000</td>\n      <td>1359.000000</td>\n      <td>1359.000000</td>\n    </tr>\n    <tr>\n      <th>mean</th>\n      <td>8.310596</td>\n      <td>0.529478</td>\n      <td>0.272333</td>\n      <td>2.523400</td>\n      <td>0.088124</td>\n      <td>15.893304</td>\n      <td>46.825975</td>\n      <td>0.996709</td>\n      <td>3.309787</td>\n      <td>0.658705</td>\n      <td>10.432315</td>\n      <td>5.623252</td>\n    </tr>\n    <tr>\n      <th>std</th>\n      <td>1.736990</td>\n      <td>0.183031</td>\n      <td>0.195537</td>\n      <td>1.352314</td>\n      <td>0.049377</td>\n      <td>10.447270</td>\n      <td>33.408946</td>\n      <td>0.001869</td>\n      <td>0.155036</td>\n      <td>0.170667</td>\n      <td>1.082065</td>\n      <td>0.823578</td>\n    </tr>\n    <tr>\n      <th>min</th>\n      <td>4.600000</td>\n      <td>0.120000</td>\n      <td>0.000000</td>\n      <td>0.900000</td>\n      <td>0.012000</td>\n      <td>1.000000</td>\n      <td>6.000000</td>\n      <td>0.990070</td>\n      <td>2.740000</td>\n      <td>0.330000</td>\n      <td>8.400000</td>\n      <td>3.000000</td>\n    </tr>\n    <tr>\n      <th>25%</th>\n      <td>7.100000</td>\n      <td>0.390000</td>\n      <td>0.090000</td>\n      <td>1.900000</td>\n      <td>0.070000</td>\n      <td>7.000000</td>\n      <td>22.000000</td>\n      <td>0.995600</td>\n      <td>3.210000</td>\n      <td>0.550000</td>\n      <td>9.500000</td>\n      <td>5.000000</td>\n    </tr>\n    <tr>\n      <th>50%</th>\n      <td>7.900000</td>\n      <td>0.520000</td>\n      <td>0.260000</td>\n      <td>2.200000</td>\n      <td>0.079000</td>\n      <td>14.000000</td>\n      <td>38.000000</td>\n      <td>0.996700</td>\n      <td>3.310000</td>\n      <td>0.620000</td>\n      <td>10.200000</td>\n      <td>6.000000</td>\n    </tr>\n    <tr>\n      <th>75%</th>\n      <td>9.200000</td>\n      <td>0.640000</td>\n      <td>0.430000</td>\n      <td>2.600000</td>\n      <td>0.091000</td>\n      <td>21.000000</td>\n      <td>63.000000</td>\n      <td>0.997820</td>\n      <td>3.400000</td>\n      <td>0.730000</td>\n      <td>11.100000</td>\n      <td>6.000000</td>\n    </tr>\n    <tr>\n      <th>max</th>\n      <td>15.900000</td>\n      <td>1.580000</td>\n      <td>1.000000</td>\n      <td>15.500000</td>\n      <td>0.611000</td>\n      <td>72.000000</td>\n      <td>289.000000</td>\n      <td>1.003690</td>\n      <td>4.010000</td>\n      <td>2.000000</td>\n      <td>14.900000</td>\n      <td>8.000000</td>\n    </tr>\n  </tbody>\n</table>\n</div>"
     },
     "execution_count": 81,
     "metadata": {},
     "output_type": "execute_result"
    }
   ],
   "source": [
    "# remove repeated data\n",
    "raw_data = raw_data.drop_duplicates()\n",
    "raw_data.info()\n",
    "raw_data.describe()"
   ],
   "metadata": {
    "collapsed": false
   }
  },
  {
   "cell_type": "code",
   "execution_count": 82,
   "outputs": [
    {
     "name": "stdout",
     "output_type": "stream",
     "text": [
      "<class 'pandas.core.frame.DataFrame'>\n",
      "Int64Index: 1217 entries, 0 to 1598\n",
      "Data columns (total 12 columns):\n",
      " #   Column                Non-Null Count  Dtype  \n",
      "---  ------                --------------  -----  \n",
      " 0   fixed acidity         1217 non-null   float64\n",
      " 1   volatile acidity      1217 non-null   float64\n",
      " 2   citric acid           1217 non-null   float64\n",
      " 3   residual sugar        1217 non-null   float64\n",
      " 4   chlorides             1217 non-null   float64\n",
      " 5   free sulfur dioxide   1217 non-null   float64\n",
      " 6   total sulfur dioxide  1217 non-null   float64\n",
      " 7   density               1217 non-null   float64\n",
      " 8   pH                    1217 non-null   float64\n",
      " 9   sulphates             1217 non-null   float64\n",
      " 10  alcohol               1217 non-null   float64\n",
      " 11  quality               1217 non-null   int64  \n",
      "dtypes: float64(11), int64(1)\n",
      "memory usage: 123.6 KB\n"
     ]
    },
    {
     "data": {
      "text/plain": "       fixed acidity  volatile acidity  citric acid  residual sugar  \\\ncount    1217.000000       1217.000000  1217.000000     1217.000000   \nmean        8.286360          0.526652     0.262021        2.278554   \nstd         1.701773          0.180310     0.190105        0.593928   \nmin         4.600000          0.120000     0.000000        0.900000   \n25%         7.100000          0.390000     0.090000        1.900000   \n50%         7.900000          0.520000     0.250000        2.200000   \n75%         9.200000          0.640000     0.420000        2.500000   \nmax        15.000000          1.330000     0.760000        4.700000   \n\n         chlorides  free sulfur dioxide  total sulfur dioxide      density  \\\ncount  1217.000000          1217.000000           1217.000000  1217.000000   \nmean      0.079132            15.759655             45.419474     0.996597   \nstd       0.016570             9.894299             30.943551     0.001795   \nmin       0.012000             1.000000              6.000000     0.990070   \n25%       0.069000             8.000000             22.000000     0.995510   \n50%       0.078000            14.000000             37.000000     0.996600   \n75%       0.088000            21.000000             60.000000     0.997740   \nmax       0.147000            57.000000            165.000000     1.002100   \n\n                pH    sulphates      alcohol      quality  \ncount  1217.000000  1217.000000  1217.000000  1217.000000  \nmean      3.317880     0.641561    10.446385     5.631882  \nstd       0.148797     0.132852     1.067512     0.811656  \nmin       2.860000     0.330000     8.400000     3.000000  \n25%       3.220000     0.550000     9.500000     5.000000  \n50%       3.310000     0.620000    10.200000     6.000000  \n75%       3.410000     0.710000    11.100000     6.000000  \nmax       3.900000     1.220000    14.000000     8.000000  ",
      "text/html": "<div>\n<style scoped>\n    .dataframe tbody tr th:only-of-type {\n        vertical-align: middle;\n    }\n\n    .dataframe tbody tr th {\n        vertical-align: top;\n    }\n\n    .dataframe thead th {\n        text-align: right;\n    }\n</style>\n<table border=\"1\" class=\"dataframe\">\n  <thead>\n    <tr style=\"text-align: right;\">\n      <th></th>\n      <th>fixed acidity</th>\n      <th>volatile acidity</th>\n      <th>citric acid</th>\n      <th>residual sugar</th>\n      <th>chlorides</th>\n      <th>free sulfur dioxide</th>\n      <th>total sulfur dioxide</th>\n      <th>density</th>\n      <th>pH</th>\n      <th>sulphates</th>\n      <th>alcohol</th>\n      <th>quality</th>\n    </tr>\n  </thead>\n  <tbody>\n    <tr>\n      <th>count</th>\n      <td>1217.000000</td>\n      <td>1217.000000</td>\n      <td>1217.000000</td>\n      <td>1217.000000</td>\n      <td>1217.000000</td>\n      <td>1217.000000</td>\n      <td>1217.000000</td>\n      <td>1217.000000</td>\n      <td>1217.000000</td>\n      <td>1217.000000</td>\n      <td>1217.000000</td>\n      <td>1217.000000</td>\n    </tr>\n    <tr>\n      <th>mean</th>\n      <td>8.286360</td>\n      <td>0.526652</td>\n      <td>0.262021</td>\n      <td>2.278554</td>\n      <td>0.079132</td>\n      <td>15.759655</td>\n      <td>45.419474</td>\n      <td>0.996597</td>\n      <td>3.317880</td>\n      <td>0.641561</td>\n      <td>10.446385</td>\n      <td>5.631882</td>\n    </tr>\n    <tr>\n      <th>std</th>\n      <td>1.701773</td>\n      <td>0.180310</td>\n      <td>0.190105</td>\n      <td>0.593928</td>\n      <td>0.016570</td>\n      <td>9.894299</td>\n      <td>30.943551</td>\n      <td>0.001795</td>\n      <td>0.148797</td>\n      <td>0.132852</td>\n      <td>1.067512</td>\n      <td>0.811656</td>\n    </tr>\n    <tr>\n      <th>min</th>\n      <td>4.600000</td>\n      <td>0.120000</td>\n      <td>0.000000</td>\n      <td>0.900000</td>\n      <td>0.012000</td>\n      <td>1.000000</td>\n      <td>6.000000</td>\n      <td>0.990070</td>\n      <td>2.860000</td>\n      <td>0.330000</td>\n      <td>8.400000</td>\n      <td>3.000000</td>\n    </tr>\n    <tr>\n      <th>25%</th>\n      <td>7.100000</td>\n      <td>0.390000</td>\n      <td>0.090000</td>\n      <td>1.900000</td>\n      <td>0.069000</td>\n      <td>8.000000</td>\n      <td>22.000000</td>\n      <td>0.995510</td>\n      <td>3.220000</td>\n      <td>0.550000</td>\n      <td>9.500000</td>\n      <td>5.000000</td>\n    </tr>\n    <tr>\n      <th>50%</th>\n      <td>7.900000</td>\n      <td>0.520000</td>\n      <td>0.250000</td>\n      <td>2.200000</td>\n      <td>0.078000</td>\n      <td>14.000000</td>\n      <td>37.000000</td>\n      <td>0.996600</td>\n      <td>3.310000</td>\n      <td>0.620000</td>\n      <td>10.200000</td>\n      <td>6.000000</td>\n    </tr>\n    <tr>\n      <th>75%</th>\n      <td>9.200000</td>\n      <td>0.640000</td>\n      <td>0.420000</td>\n      <td>2.500000</td>\n      <td>0.088000</td>\n      <td>21.000000</td>\n      <td>60.000000</td>\n      <td>0.997740</td>\n      <td>3.410000</td>\n      <td>0.710000</td>\n      <td>11.100000</td>\n      <td>6.000000</td>\n    </tr>\n    <tr>\n      <th>max</th>\n      <td>15.000000</td>\n      <td>1.330000</td>\n      <td>0.760000</td>\n      <td>4.700000</td>\n      <td>0.147000</td>\n      <td>57.000000</td>\n      <td>165.000000</td>\n      <td>1.002100</td>\n      <td>3.900000</td>\n      <td>1.220000</td>\n      <td>14.000000</td>\n      <td>8.000000</td>\n    </tr>\n  </tbody>\n</table>\n</div>"
     },
     "execution_count": 82,
     "metadata": {},
     "output_type": "execute_result"
    }
   ],
   "source": [
    "# remove outliers\n",
    "for col in raw_data.columns:\n",
    "    if col != 'quality':\n",
    "        iqr = raw_data[col].quantile(0.75) - raw_data[col].quantile(0.25)\n",
    "        upper_bound = raw_data[col].quantile(0.75) + 3 * iqr\n",
    "        lower_bound = raw_data[col].quantile(0.25) - 3 * iqr\n",
    "        raw_data = raw_data[(raw_data[col] < upper_bound) & (raw_data[col] > lower_bound)]\n",
    "\n",
    "raw_data.info()\n",
    "raw_data.describe()"
   ],
   "metadata": {
    "collapsed": false
   }
  },
  {
   "cell_type": "code",
   "execution_count": 83,
   "outputs": [],
   "source": [
    "# normalize features except quality\n",
    "from sklearn.preprocessing import StandardScaler\n",
    "input_features = raw_data.drop('quality', axis=1)\n",
    "\n",
    "scaler = StandardScaler()\n",
    "input_features = scaler.fit_transform(input_features)\n",
    "\n",
    "# contact quality to input features\n",
    "processed_data = np.concatenate((input_features, raw_data['quality'].values.reshape(-1, 1)), axis=1)"
   ],
   "metadata": {
    "collapsed": false
   }
  },
  {
   "cell_type": "code",
   "execution_count": 84,
   "outputs": [
    {
     "name": "stdout",
     "output_type": "stream",
     "text": [
      "<class 'pandas.core.frame.DataFrame'>\n",
      "RangeIndex: 1217 entries, 0 to 1216\n",
      "Data columns (total 12 columns):\n",
      " #   Column                Non-Null Count  Dtype  \n",
      "---  ------                --------------  -----  \n",
      " 0   fixed acidity         1217 non-null   float64\n",
      " 1   volatile acidity      1217 non-null   float64\n",
      " 2   citric acid           1217 non-null   float64\n",
      " 3   residual sugar        1217 non-null   float64\n",
      " 4   chlorides             1217 non-null   float64\n",
      " 5   free sulfur dioxide   1217 non-null   float64\n",
      " 6   total sulfur dioxide  1217 non-null   float64\n",
      " 7   density               1217 non-null   float64\n",
      " 8   pH                    1217 non-null   float64\n",
      " 9   sulphates             1217 non-null   float64\n",
      " 10  alcohol               1217 non-null   float64\n",
      " 11  quality               1217 non-null   float64\n",
      "dtypes: float64(12)\n",
      "memory usage: 114.2 KB\n"
     ]
    },
    {
     "data": {
      "text/plain": "       fixed acidity  volatile acidity  citric acid  residual sugar  \\\ncount   1.217000e+03      1.217000e+03  1217.000000    1.217000e+03   \nmean   -2.802469e-16     -4.028550e-16     0.000000   -1.634774e-16   \nstd     1.000411e+00      1.000411e+00     1.000411    1.000411e+00   \nmin    -2.167078e+00     -2.256216e+00    -1.378863   -2.322031e+00   \n25%    -6.974183e-01     -7.581809e-01    -0.905247   -6.376348e-01   \n50%    -2.271271e-01     -3.690493e-02    -0.063261   -1.323158e-01   \n75%     5.370962e-01      6.288883e-01     0.831348    3.730032e-01   \nmax     3.946708e+00      4.457199e+00     2.620567    4.078676e+00   \n\n          chlorides  free sulfur dioxide  total sulfur dioxide       density  \\\ncount  1.217000e+03         1.217000e+03          1.217000e+03  1.217000e+03   \nmean  -4.437243e-16        -5.254630e-17         -1.167696e-17 -4.834260e-14   \nstd    1.000411e+00         1.000411e+00          1.000411e+00  1.000411e+00   \nmin   -4.053072e+00        -1.492346e+00         -1.274439e+00 -3.636546e+00   \n25%   -6.117312e-01        -7.845775e-01         -7.571562e-01 -6.055012e-01   \n50%   -6.836149e-02        -1.779184e-01         -2.722033e-01  1.822158e-03   \n75%    5.353826e-01         5.298505e-01          4.713913e-01  6.370044e-01   \nmax    4.097473e+00         4.169805e+00          3.866062e+00  3.066298e+00   \n\n                 pH     sulphates       alcohol      quality  \ncount  1.217000e+03  1.217000e+03  1.217000e+03  1217.000000  \nmean   5.604939e-16 -1.795332e-16 -4.203704e-16     5.631882  \nstd    1.000411e+00  1.000411e+00  1.000411e+00     0.811656  \nmin   -3.078476e+00 -2.346136e+00 -1.917754e+00     3.000000  \n25%   -6.580793e-01 -6.894796e-01 -8.868973e-01     5.000000  \n50%   -5.298002e-02 -1.623615e-01 -2.308975e-01     6.000000  \n75%    6.193525e-01  5.153617e-01  6.125309e-01     6.000000  \nmax    3.913782e+00  4.355793e+00  3.330244e+00     8.000000  ",
      "text/html": "<div>\n<style scoped>\n    .dataframe tbody tr th:only-of-type {\n        vertical-align: middle;\n    }\n\n    .dataframe tbody tr th {\n        vertical-align: top;\n    }\n\n    .dataframe thead th {\n        text-align: right;\n    }\n</style>\n<table border=\"1\" class=\"dataframe\">\n  <thead>\n    <tr style=\"text-align: right;\">\n      <th></th>\n      <th>fixed acidity</th>\n      <th>volatile acidity</th>\n      <th>citric acid</th>\n      <th>residual sugar</th>\n      <th>chlorides</th>\n      <th>free sulfur dioxide</th>\n      <th>total sulfur dioxide</th>\n      <th>density</th>\n      <th>pH</th>\n      <th>sulphates</th>\n      <th>alcohol</th>\n      <th>quality</th>\n    </tr>\n  </thead>\n  <tbody>\n    <tr>\n      <th>count</th>\n      <td>1.217000e+03</td>\n      <td>1.217000e+03</td>\n      <td>1217.000000</td>\n      <td>1.217000e+03</td>\n      <td>1.217000e+03</td>\n      <td>1.217000e+03</td>\n      <td>1.217000e+03</td>\n      <td>1.217000e+03</td>\n      <td>1.217000e+03</td>\n      <td>1.217000e+03</td>\n      <td>1.217000e+03</td>\n      <td>1217.000000</td>\n    </tr>\n    <tr>\n      <th>mean</th>\n      <td>-2.802469e-16</td>\n      <td>-4.028550e-16</td>\n      <td>0.000000</td>\n      <td>-1.634774e-16</td>\n      <td>-4.437243e-16</td>\n      <td>-5.254630e-17</td>\n      <td>-1.167696e-17</td>\n      <td>-4.834260e-14</td>\n      <td>5.604939e-16</td>\n      <td>-1.795332e-16</td>\n      <td>-4.203704e-16</td>\n      <td>5.631882</td>\n    </tr>\n    <tr>\n      <th>std</th>\n      <td>1.000411e+00</td>\n      <td>1.000411e+00</td>\n      <td>1.000411</td>\n      <td>1.000411e+00</td>\n      <td>1.000411e+00</td>\n      <td>1.000411e+00</td>\n      <td>1.000411e+00</td>\n      <td>1.000411e+00</td>\n      <td>1.000411e+00</td>\n      <td>1.000411e+00</td>\n      <td>1.000411e+00</td>\n      <td>0.811656</td>\n    </tr>\n    <tr>\n      <th>min</th>\n      <td>-2.167078e+00</td>\n      <td>-2.256216e+00</td>\n      <td>-1.378863</td>\n      <td>-2.322031e+00</td>\n      <td>-4.053072e+00</td>\n      <td>-1.492346e+00</td>\n      <td>-1.274439e+00</td>\n      <td>-3.636546e+00</td>\n      <td>-3.078476e+00</td>\n      <td>-2.346136e+00</td>\n      <td>-1.917754e+00</td>\n      <td>3.000000</td>\n    </tr>\n    <tr>\n      <th>25%</th>\n      <td>-6.974183e-01</td>\n      <td>-7.581809e-01</td>\n      <td>-0.905247</td>\n      <td>-6.376348e-01</td>\n      <td>-6.117312e-01</td>\n      <td>-7.845775e-01</td>\n      <td>-7.571562e-01</td>\n      <td>-6.055012e-01</td>\n      <td>-6.580793e-01</td>\n      <td>-6.894796e-01</td>\n      <td>-8.868973e-01</td>\n      <td>5.000000</td>\n    </tr>\n    <tr>\n      <th>50%</th>\n      <td>-2.271271e-01</td>\n      <td>-3.690493e-02</td>\n      <td>-0.063261</td>\n      <td>-1.323158e-01</td>\n      <td>-6.836149e-02</td>\n      <td>-1.779184e-01</td>\n      <td>-2.722033e-01</td>\n      <td>1.822158e-03</td>\n      <td>-5.298002e-02</td>\n      <td>-1.623615e-01</td>\n      <td>-2.308975e-01</td>\n      <td>6.000000</td>\n    </tr>\n    <tr>\n      <th>75%</th>\n      <td>5.370962e-01</td>\n      <td>6.288883e-01</td>\n      <td>0.831348</td>\n      <td>3.730032e-01</td>\n      <td>5.353826e-01</td>\n      <td>5.298505e-01</td>\n      <td>4.713913e-01</td>\n      <td>6.370044e-01</td>\n      <td>6.193525e-01</td>\n      <td>5.153617e-01</td>\n      <td>6.125309e-01</td>\n      <td>6.000000</td>\n    </tr>\n    <tr>\n      <th>max</th>\n      <td>3.946708e+00</td>\n      <td>4.457199e+00</td>\n      <td>2.620567</td>\n      <td>4.078676e+00</td>\n      <td>4.097473e+00</td>\n      <td>4.169805e+00</td>\n      <td>3.866062e+00</td>\n      <td>3.066298e+00</td>\n      <td>3.913782e+00</td>\n      <td>4.355793e+00</td>\n      <td>3.330244e+00</td>\n      <td>8.000000</td>\n    </tr>\n  </tbody>\n</table>\n</div>"
     },
     "execution_count": 84,
     "metadata": {},
     "output_type": "execute_result"
    }
   ],
   "source": [
    "# show processed data\n",
    "processed_data = pd.DataFrame(processed_data, columns=raw_data.columns)\n",
    "processed_data.info()\n",
    "processed_data.describe()"
   ],
   "metadata": {
    "collapsed": false
   }
  },
  {
   "cell_type": "code",
   "execution_count": 85,
   "outputs": [
    {
     "name": "stdout",
     "output_type": "stream",
     "text": [
      "5    512\n",
      "6    488\n",
      "7    148\n",
      "4     48\n",
      "8     15\n",
      "3      6\n",
      "Name: quality, dtype: int64\n"
     ]
    }
   ],
   "source": [
    "print(raw_data['quality'].value_counts())"
   ],
   "metadata": {
    "collapsed": false
   }
  },
  {
   "cell_type": "code",
   "execution_count": 86,
   "outputs": [],
   "source": [
    "# save processed data to csv\n",
    "processed_data.to_csv('processed_data.csv', index=False)"
   ],
   "metadata": {
    "collapsed": false
   }
  }
 ],
 "metadata": {
  "kernelspec": {
   "display_name": "Python 3",
   "language": "python",
   "name": "python3"
  },
  "language_info": {
   "codemirror_mode": {
    "name": "ipython",
    "version": 2
   },
   "file_extension": ".py",
   "mimetype": "text/x-python",
   "name": "python",
   "nbconvert_exporter": "python",
   "pygments_lexer": "ipython2",
   "version": "2.7.6"
  }
 },
 "nbformat": 4,
 "nbformat_minor": 0
}
